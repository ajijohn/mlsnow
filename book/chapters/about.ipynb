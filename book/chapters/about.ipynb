{
 "cells": [
  {
   "cell_type": "markdown",
   "metadata": {
    "tags": []
   },
   "source": [
    "# About the GeoSMART ML Snow usecase\n",
    "\n",
    "Introduction\n",
    "------------\n",
    "\n",
    "Understanding the responses of species to climate change requires a robust understanding of the impact of abiotic (environmental) factors on habitat suitability and habitat availability at spatial scales relevant to the study species (Hannah et al. 2014). When studying plant species in montane ecosystems, snow cover is a particularly relevant abiotic factor in determining habitat suitability. However, remotely-sensed snow cover measurements are either captured at a spatial scale far too large to be relevant to the study species (e.g. MODIS SCA), or are appropriate in spatial scale but cost-prohibitive (e.g. LiDAR snow measurements).\n",
    "\n",
    "![image info](../img/comparison.png)\n",
    "\n",
    "\n",
    "    a)Remote sensing platforms observing transitional snowpack (blue shades are lower, and green shades are higher snowpack density) b) Atmospheric transmission/ ground reflectance for the wavelengths used to observe snow cover c) Tradeoffs between spatial, temporal and spectral resolutions in the current sources, d) Locations of repeat LiDAR snow surveys\n",
    "\n",
    "This project evaluates the suitability of Planet data, a commercial satellite imagery product with unprecedented spatial (< 0.8 m) and temporal (< 5 day) resolution, for the purpose of acquiring detailed snow-cover and snow-melt data at ecologically-relevant scales. The challenge herein is the radiometric bandwidth available from Planet imagery: only Red, Green, Blue, and Near Infrared bands are measured by these satellites, which makes standard spectral snow cover indices like the Normalized Difference Snow Index (NDSI, Hall et al. 1995) unusable. We develop a method for using this limited radiometric bandwidth to determine snow cover.\n",
    "\n"
   ]
  },
  {
   "cell_type": "markdown",
   "metadata": {},
   "source": [
    "Technical Overview\n",
    "------------------\n",
    "\n",
    "Presented here generally, and laid out in more detail in other pages, is the general architecture of our method. We combine Planet imagery with lidar-derived snow area to create a \"labeled training set\" of images for our machine learning method. This computation is performed on `Amazon Web Services <https://aws.amazon.com>`_ infrastructure, a public cloud computing service. Below is a schematic of this process:\n",
    "\n",
    "![image info](../img/schematic.png)\n",
    "\n",
    "  Workflow components schematic for processing spatial data."
   ]
  },
  {
   "cell_type": "markdown",
   "metadata": {},
   "source": [
    "### General Overview\n",
    "\n",
    "Use case for ML Snow\n",
    "[![GeoSMART ML Snow Use Case](../img/use_case_badge.svg)](https://geo-smart.github.io/usecases)\n",
    "\n",
    "\n"
   ]
  },
  {
   "cell_type": "code",
   "execution_count": null,
   "metadata": {},
   "outputs": [],
   "source": [
    "### Structure\n",
    "\n",
    "Tutorial content is broken into jupyterbooks that can be run:\n",
    "* Run it yourself \n",
    "* Provide feedback\n",
    "\n",
    "The goal is to provide executable code on some platform. The contributor can choose between:\n",
    "* Binder\n",
    "* Google Colab\n",
    "* Free AWS (smaller cloud-based examples)\n",
    "If none of the above options work for you, please contact us directly to discuss further.\n",
    "\n"
   ]
  }
 ],
 "metadata": {
  "kernelspec": {
   "display_name": "Python [default]",
   "language": "python",
   "name": "python3"
  },
  "language_info": {
   "codemirror_mode": {
    "name": "ipython",
    "version": 3
   },
   "file_extension": ".py",
   "mimetype": "text/x-python",
   "name": "python",
   "nbconvert_exporter": "python",
   "pygments_lexer": "ipython3",
   "version": "3.6.8"
  },
  "vscode": {
   "interpreter": {
    "hash": "c446eef832ec964573dc49f36fd16bdbed40cbfbefbf557bc2dc78d9e7968689"
   }
  }
 },
 "nbformat": 4,
 "nbformat_minor": 4
}
