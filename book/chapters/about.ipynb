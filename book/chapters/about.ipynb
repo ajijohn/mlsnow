{
 "cells": [
  {
   "attachments": {},
   "cell_type": "markdown",
   "metadata": {
    "tags": []
   },
   "source": [
    "# About the GeoSMART ML Snow usecase\n",
    "\n",
    "### General Overview\n",
    "\n",
    "Use case for ML Snow\n",
    "[![GeoSMART ML Snow Use Case](../img/use_case_badge.svg)](https://geo-smart.github.io/usecases)\n",
    "\n",
    "### Structure\n",
    "\n",
    "Tutorial content is broken into jupyterbooks that can be run:\n",
    "* Run it yourself \n",
    "* Provide feedback\n",
    "\n",
    "The goal is to provide executable code on some platform. The contributor can choose between:\n",
    "* Binder\n",
    "* Google Colab\n",
    "* Free AWS (smaller cloud-based examples)\n",
    "If none of the above options work for you, please contact us directly to discuss further.\n",
    "\n",
    "### Technical Details\n",
    "\n"
   ]
  }
 ],
 "metadata": {
  "kernelspec": {
   "display_name": "Python 3",
   "language": "python",
   "name": "python3"
  },
  "language_info": {
   "codemirror_mode": {
    "name": "ipython",
    "version": 3
   },
   "file_extension": ".py",
   "mimetype": "text/x-python",
   "name": "python",
   "nbconvert_exporter": "python",
   "pygments_lexer": "ipython3",
   "version": "3.9.0 (tags/v3.9.0:9cf6752, Oct  5 2020, 15:23:07) [MSC v.1927 32 bit (Intel)]"
  },
  "vscode": {
   "interpreter": {
    "hash": "c446eef832ec964573dc49f36fd16bdbed40cbfbefbf557bc2dc78d9e7968689"
   }
  }
 },
 "nbformat": 4,
 "nbformat_minor": 4
}
